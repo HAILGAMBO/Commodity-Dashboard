{
 "cells": [
  {
   "cell_type": "code",
   "execution_count": 83,
   "metadata": {
    "collapsed": true
   },
   "outputs": [],
   "source": [
    "# Import Dependencies\n",
    "import os\n",
    "import pandas as pd\n",
    "from bs4 import BeautifulSoup as bs\n",
    "from splinter import Browser\n",
    "import time"
   ]
  },
  {
   "cell_type": "code",
   "execution_count": 84,
   "metadata": {
    "collapsed": true
   },
   "outputs": [],
   "source": [
    "def init_browser():\n",
    "    \"\"\" Connects path to chromedriver \"\"\"\n",
    "    \n",
    "    executable_path = {'executable_path': '/Users/venessayeh/Downloads/chromedriver'}\n",
    "    return Browser(\"chrome\", **executable_path, headless=False)"
   ]
  },
  {
   "cell_type": "code",
   "execution_count": 86,
   "metadata": {
    "collapsed": true
   },
   "outputs": [],
   "source": [
    "def reset(url):\n",
    "    \"\"\" Reset the url and browser connection everytime a new page is clicked to parse new page\"\"\"\n",
    "    \n",
    "    browser = init_browser()\n",
    "    browser.visit(url)\n",
    "\n",
    "    news_html = browser.html\n",
    "    news_soup = bs(news_html, \"lxml\")\n",
    "\n",
    "    headline_list = news_soup.find_all('div', class_='record')\n",
    "    \n",
    "    # Find new information for new page\n",
    "    return scrape(headline_list, news_soup)"
   ]
  },
  {
   "cell_type": "code",
   "execution_count": 87,
   "metadata": {},
   "outputs": [],
   "source": [
    "def scrape(headline_list, news_soup):\n",
    "    \"\"\" Find information of news articles on soybeans\"\"\"\n",
    "    \n",
    "    # Create loop to go through all found article headlines\n",
    "    for headline in headline_list:\n",
    "        \n",
    "        # Create a dictionary to hold information of each soybean article\n",
    "        news_dict = {} \n",
    "        \n",
    "        # Find the description and headlines of all articles\n",
    "        description = headline.find('div', class_='abstract').text\n",
    "        find_title = headline.find('a', class_='more')\n",
    "        \n",
    "        # Set variable for url head for news article urls and next page urls\n",
    "        news_site = 'https://www.foodbusinessnews.net'\n",
    "        \n",
    "        # Create an if statement to find articles that contain 'soybeans' in description or headline\n",
    "        if any(x in description.lower() for x in ['soybean', 'soybeans']):\n",
    "            \n",
    "            # Find the headline title\n",
    "            title = find_title['title']\n",
    "            news_dict['title'] = title\n",
    "            \n",
    "            # Find the date of article\n",
    "            date = headline.find('div', class_='date').text\n",
    "            news_dict['date'] = date\n",
    "            \n",
    "            # Find the article url\n",
    "            href = headline.find('a', class_='more')\n",
    "            link = news_site + href['href']\n",
    "            news_dict['url'] = link\n",
    "            \n",
    "            # Append the dictionary to the main list\n",
    "            main_list.append(news_dict)\n",
    "            \n",
    "        else:\n",
    "            print(None)\n",
    "    \n",
    "    # Find the next page and send it to the reset function to scrape new page\n",
    "    try: \n",
    "        find_next_page = news_soup.find('a', class_='next_page')\n",
    "        next_page = news_site + find_next_page['href']\n",
    "        reset(next_page)\n",
    "    except: \n",
    "        \n",
    "        # If there is no next page, print 'end of search'\n",
    "        return \"End of search.\""
   ]
  },
  {
   "cell_type": "code",
   "execution_count": 88,
   "metadata": {},
   "outputs": [
    {
     "name": "stdout",
     "output_type": "stream",
     "text": [
      "None\n",
      "None\n",
      "None\n",
      "None\n",
      "None\n",
      "None\n",
      "None\n",
      "None\n",
      "None\n",
      "None\n",
      "None\n",
      "None\n",
      "None\n",
      "None\n",
      "None\n",
      "None\n",
      "None\n",
      "None\n",
      "None\n",
      "None\n",
      "None\n",
      "None\n",
      "None\n",
      "None\n",
      "None\n",
      "None\n",
      "None\n",
      "None\n",
      "None\n",
      "None\n",
      "None\n",
      "None\n",
      "None\n",
      "None\n",
      "None\n",
      "None\n",
      "None\n",
      "None\n",
      "None\n",
      "None\n",
      "None\n",
      "None\n",
      "None\n",
      "None\n",
      "None\n",
      "None\n",
      "None\n",
      "None\n",
      "None\n",
      "None\n",
      "None\n",
      "None\n",
      "None\n",
      "None\n",
      "None\n",
      "None\n",
      "None\n",
      "None\n",
      "None\n",
      "None\n",
      "None\n",
      "None\n",
      "None\n",
      "None\n",
      "None\n",
      "None\n",
      "None\n",
      "None\n",
      "None\n",
      "None\n",
      "None\n",
      "None\n"
     ]
    }
   ],
   "source": [
    "# Create a main list to store all dictionaries of news article information \n",
    "main_list = []\n",
    "\n",
    "# Set variable for initial url of Food Business News\n",
    "news_url = 'https://www.foodbusinessnews.net/search?Submit=Submit&author=&datatype=&edition=&end_date=&exclude_datatypes%5B%5D=blog&ip=169.234.124.198&page=1&q=soybeans+prices&start_date=12%2F1%2F2010&utf8=%E2%9C%93'\n",
    "\n",
    "# Begin scrape by sending it to the reset browser function\n",
    "reset(news_url)"
   ]
  },
  {
   "cell_type": "code",
   "execution_count": 89,
   "metadata": {},
   "outputs": [
    {
     "name": "stdout",
     "output_type": "stream",
     "text": [
      "[{'title': 'U.S. soybeans at risk in trade dispute with China', 'date': '05.15.2018', 'url': 'https://www.foodbusinessnews.net/articles/11829-us-soybeans-at-risk-in-trade-dispute-with-china'}, {'title': 'Organic grain prices mixed in first quarter', 'date': '04.23.2018', 'url': 'https://www.foodbusinessnews.net/articles/11687-organic-grain-prices-mixed-in-first-quarter'}, {'title': 'Organic winter wheat, corn prices climb', 'date': '02.27.2018', 'url': 'https://www.foodbusinessnews.net/articles/11375-organic-winter-wheat-corn-prices-climb'}, {'title': 'Organic durum prices higher, winter wheat lower in quarter', 'date': '12.18.2017', 'url': 'https://www.foodbusinessnews.net/articles/11028-organic-durum-prices-higher-winter-wheat-lower-in-quarter'}, {'title': 'Mixed data signals but plenty of grain, soybeans going forward', 'date': '04.18.2017', 'url': 'https://www.foodbusinessnews.net/articles/10464-mixed-data-signals-but-plenty-of-grain-soybeans-going-forward'}, {'title': 'U.S.D.A. raises 2017 wheat carryover 3% from March', 'date': '04.11.2017', 'url': 'https://www.foodbusinessnews.net/articles/9183-u-s-d-a-raises-2017-wheat-carryover-3-from-march'}, {'title': 'U.S. corn, soybean production down 1% from November', 'date': '01.12.2017', 'url': 'https://www.foodbusinessnews.net/articles/8756-u-s-corn-soybean-production-down-1-from-november'}, {'title': 'Research assesses agriculture without G.M.O.s', 'date': '03.02.2016', 'url': 'https://www.foodbusinessnews.net/articles/7656-research-assesses-agriculture-without-g-m-o-s'}]\n"
     ]
    }
   ],
   "source": [
    "print(main_list)"
   ]
  }
 ],
 "metadata": {
  "kernelspec": {
   "display_name": "Python [conda env:PythonData]",
   "language": "python",
   "name": "conda-env-PythonData-py"
  },
  "language_info": {
   "codemirror_mode": {
    "name": "ipython",
    "version": 3
   },
   "file_extension": ".py",
   "mimetype": "text/x-python",
   "name": "python",
   "nbconvert_exporter": "python",
   "pygments_lexer": "ipython3",
   "version": "3.6.3"
  }
 },
 "nbformat": 4,
 "nbformat_minor": 2
}
